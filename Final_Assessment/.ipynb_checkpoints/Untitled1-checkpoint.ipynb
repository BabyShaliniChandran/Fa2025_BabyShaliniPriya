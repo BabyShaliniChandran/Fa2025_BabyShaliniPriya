{
 "cells": [
  {
   "cell_type": "markdown",
   "id": "a6d47c6c-be7d-4750-af64-27b0dc950c91",
   "metadata": {},
   "source": [
    "Task 1: Loadand combine data"
   ]
  },
  {
   "cell_type": "code",
   "execution_count": null,
   "id": "30418199-719a-4e35-8cb5-cec612ffa125",
   "metadata": {},
   "outputs": [],
   "source": [
    "#importing the libraries\n",
    "import pandas as pd \n",
    "import zipfile\n",
    "import numpy\n",
    "#unziping the files\n",
    "def unzip(filename,folder_name):\n",
    "    with zipfile.ZipFile(filename,'r') as zf:\n",
    "        inner_file=zf.namelist()\n",
    "        zf.extractall(folder_name)\n",
    "        return inner_file\n",
    "inner_file=unzip('sensor_data_2025.zip','Final_Assessment')\n",
    "unzip('Final_Assessment/munich_data.zip','munich_data')\n",
    "unzip('Final_Assessment/tokyo_data.zip','tokyo_data')\n",
    "munich_csv=pd.read_csv('munich_data/readings.csv')\n",
    "munich_csv['city']='munich'\n",
    "tokyo_csv=pd.read_csv('tokyo_data/readings.csv')\n",
    "tokyo_csv['city']='Tokyo'\n",
    "munich_json=pd.read_json('munich_data/station_info.json')\n",
    "munich_json['city']='munich'\n",
    "tokyo_json=pd.read_json('tokyo_data/station_info.json')\n",
    "tokyo_json['city']='tokyo'\n",
    "all_reading_df=pd.concat([munich_csv,tokyo_csv])\n",
    "all_station_info_df=pd.concat([munich_json,tokyo_json])"
   ]
  },
  {
   "cell_type": "code",
   "execution_count": null,
   "id": "80e44212-8eb6-43f0-88de-8e575ec5d262",
   "metadata": {},
   "outputs": [],
   "source": [
    "main_df=all_reading_df.merge(all_station_info_df,on='station_id')\n",
    "main_df.head()"
   ]
  },
  {
   "cell_type": "code",
   "execution_count": null,
   "id": "612fe07e-35ac-4e95-8971-686cdd20c746",
   "metadata": {},
   "outputs": [],
   "source": [
    "cleaned_df=main_df[main_df['status']=='active']\n",
    "cleaned_df.dropna(subset=['temperature_celsius','pm2_5'],how='any',inplace=True)"
   ]
  },
  {
   "cell_type": "code",
   "execution_count": null,
   "id": "457cb66f-db7f-4742-acf1-e2953219a304",
   "metadata": {},
   "outputs": [],
   "source": []
  },
  {
   "cell_type": "code",
   "execution_count": null,
   "id": "7d028fa3-b255-422e-9a65-072d95a3ae22",
   "metadata": {},
   "outputs": [],
   "source": []
  },
  {
   "cell_type": "code",
   "execution_count": null,
   "id": "0f73e9e3-7539-4063-a1e2-8d44a7207f3e",
   "metadata": {},
   "outputs": [],
   "source": []
  },
  {
   "cell_type": "code",
   "execution_count": null,
   "id": "9b30d3cd-3e51-4ace-a996-054872cdd287",
   "metadata": {},
   "outputs": [],
   "source": []
  }
 ],
 "metadata": {
  "kernelspec": {
   "display_name": "Python 3 (ipykernel)",
   "language": "python",
   "name": "python3"
  },
  "language_info": {
   "codemirror_mode": {
    "name": "ipython",
    "version": 3
   },
   "file_extension": ".py",
   "mimetype": "text/x-python",
   "name": "python",
   "nbconvert_exporter": "python",
   "pygments_lexer": "ipython3",
   "version": "3.13.5"
  }
 },
 "nbformat": 4,
 "nbformat_minor": 5
}

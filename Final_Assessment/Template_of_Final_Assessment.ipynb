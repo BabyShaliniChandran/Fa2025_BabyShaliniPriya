{
 "cells": [
  {
   "cell_type": "markdown",
   "metadata": {
    "id": "efd795a1"
   },
   "source": [
    "# Assessment Problem\n",
    "Write a Python script that processes sensor data from a zip file (`sensor_data_2025.zip`). The script should:\n",
    "1. Extract data from nested city zip files (e.g., `munich_data.zip`, `tokyo_data.zip`), reading ``readings.csv`` and `station_info.json` from each.\n",
    "2. Add a `city` column to each DataFrame with the city's name.\n",
    "3. Combine the data into two main DataFrames: one for readings and one for station info.\n",
    "4. Merge these two DataFrames on `station_id`.\n",
    "5. Clean the merged data by keeping only `active` stations and removing rows with missing `temperature_celsius` or `pm2_5`.\n",
    "6. Calculate the average temperature and PM2.5 for each city.\n",
    "7. Save the city summary as a CSV file named `city_summary_report.csv` with columns `city`, `average_temperature`, and `average_pm2_5`."
   ]
  },
  {
   "cell_type": "markdown",
   "metadata": {
    "id": "3a3730b0"
   },
   "source": [
    "## TASK 1: Load and combine data\n",
    "\n",
    "Go through each city's zip file, read the `readings.csv` and `station_info.json` files, add a 'city' column to each DataFrame, and combine them into `all_readings_df` and `all_station_info_df`.\n"
   ]
  },
  {
   "cell_type": "markdown",
   "metadata": {
    "id": "e84b1b8c"
   },
   "source": [
    "**Reasoning**:\n",
    "TASK 1 requires extracting data from nested zip files, processing them, and combining them into two dataframes. This involves using the zipfile library and pandas for data manipulation.\n",
    "\n"
   ]
  },
  {
   "cell_type": "code",
   "execution_count": 1,
   "metadata": {
    "id": "bb305077"
   },
   "outputs": [],
   "source": [
    "#importing the libraries\n",
    "import pandas as pd \n",
    "import zipfile\n",
    "import numpy\n",
    "#unziping the files\n",
    "def unzip(filename,folder_name):\n",
    "    with zipfile.ZipFile(filename,'r') as zf:\n",
    "        inner_file=zf.namelist()\n",
    "        zf.extractall(folder_name)\n",
    "        return inner_file\n",
    "inner_file=unzip('sensor_data_2025.zip','Final_Assessment')\n",
    "unzip('Final_Assessment/munich_data.zip','munich_data')\n",
    "unzip('Final_Assessment/tokyo_data.zip','tokyo_data')\n",
    "unzip('Final_Assessment/sydney_data.zip','sydney_data')\n",
    "munich_csv=pd.read_csv('munich_data/readings.csv')\n",
    "munich_csv['city']='munich'\n",
    "sydney_csv=pd.read_csv('sydney_data/readings.csv')\n",
    "sydney_csv['city']='sydney'\n",
    "tokyo_csv=pd.read_csv('tokyo_data/readings.csv')\n",
    "tokyo_csv['city']='Tokyo'\n",
    "munich_json=pd.read_json('munich_data/station_info.json')\n",
    "munich_json['city']='munich'\n",
    "tokyo_json=pd.read_json('tokyo_data/station_info.json')\n",
    "tokyo_json['city']='tokyo'\n",
    "sydney_json=pd.read_json('sydney_data/station_info.json')\n",
    "sydney_json['city']='sydney'\n",
    "all_reading_df=pd.concat([munich_csv,tokyo_csv,sydney_csv])\n",
    "all_station_info_df=pd.concat([munich_json,tokyo_json,sydney_json])"
   ]
  },
  {
   "cell_type": "markdown",
   "metadata": {
    "id": "e7aacbc0"
   },
   "source": [
    "## TASK 2: Merge dataframes\n",
    "\n",
    "Merge the `all_readings_df` and `all_station_info_df` into a single DataFrame using the `station_id` column.\n"
   ]
  },
  {
   "cell_type": "markdown",
   "metadata": {
    "id": "0dfaad49"
   },
   "source": [
    "**Reasoning**:\n",
    "Merge the two dataframes `all_readings_df` and `all_station_info_df` on the `station_id` column and display the head of the resulting dataframe to verify the merge.\n",
    "\n"
   ]
  },
  {
   "cell_type": "code",
   "execution_count": 2,
   "metadata": {
    "id": "cf658701"
   },
   "outputs": [
    {
     "data": {
      "text/html": [
       "<div>\n",
       "<style scoped>\n",
       "    .dataframe tbody tr th:only-of-type {\n",
       "        vertical-align: middle;\n",
       "    }\n",
       "\n",
       "    .dataframe tbody tr th {\n",
       "        vertical-align: top;\n",
       "    }\n",
       "\n",
       "    .dataframe thead th {\n",
       "        text-align: right;\n",
       "    }\n",
       "</style>\n",
       "<table border=\"1\" class=\"dataframe\">\n",
       "  <thead>\n",
       "    <tr style=\"text-align: right;\">\n",
       "      <th></th>\n",
       "      <th>station_id</th>\n",
       "      <th>timestamp</th>\n",
       "      <th>temperature_celsius</th>\n",
       "      <th>humidity_percent</th>\n",
       "      <th>pm2_5</th>\n",
       "      <th>city_x</th>\n",
       "      <th>location</th>\n",
       "      <th>status</th>\n",
       "      <th>deployment_year</th>\n",
       "      <th>city_y</th>\n",
       "    </tr>\n",
       "  </thead>\n",
       "  <tbody>\n",
       "    <tr>\n",
       "      <th>0</th>\n",
       "      <td>1001</td>\n",
       "      <td>2025-02-04 23:00:00</td>\n",
       "      <td>14.17</td>\n",
       "      <td>77.11</td>\n",
       "      <td>22.80</td>\n",
       "      <td>munich</td>\n",
       "      <td>{'latitude': 48.116274, 'longitude': 11.563626}</td>\n",
       "      <td>active</td>\n",
       "      <td>2024</td>\n",
       "      <td>munich</td>\n",
       "    </tr>\n",
       "    <tr>\n",
       "      <th>1</th>\n",
       "      <td>1001</td>\n",
       "      <td>2025-01-06 16:00:00</td>\n",
       "      <td>2.66</td>\n",
       "      <td>60.41</td>\n",
       "      <td>29.61</td>\n",
       "      <td>munich</td>\n",
       "      <td>{'latitude': 48.116274, 'longitude': 11.563626}</td>\n",
       "      <td>active</td>\n",
       "      <td>2024</td>\n",
       "      <td>munich</td>\n",
       "    </tr>\n",
       "    <tr>\n",
       "      <th>2</th>\n",
       "      <td>1001</td>\n",
       "      <td>2025-01-01 13:00:00</td>\n",
       "      <td>0.31</td>\n",
       "      <td>53.84</td>\n",
       "      <td>42.90</td>\n",
       "      <td>munich</td>\n",
       "      <td>{'latitude': 48.116274, 'longitude': 11.563626}</td>\n",
       "      <td>active</td>\n",
       "      <td>2024</td>\n",
       "      <td>munich</td>\n",
       "    </tr>\n",
       "    <tr>\n",
       "      <th>3</th>\n",
       "      <td>1001</td>\n",
       "      <td>2025-01-20 11:00:00</td>\n",
       "      <td>14.97</td>\n",
       "      <td>80.40</td>\n",
       "      <td>NaN</td>\n",
       "      <td>munich</td>\n",
       "      <td>{'latitude': 48.116274, 'longitude': 11.563626}</td>\n",
       "      <td>active</td>\n",
       "      <td>2024</td>\n",
       "      <td>munich</td>\n",
       "    </tr>\n",
       "    <tr>\n",
       "      <th>4</th>\n",
       "      <td>1001</td>\n",
       "      <td>2025-02-12 06:00:00</td>\n",
       "      <td>14.22</td>\n",
       "      <td>78.14</td>\n",
       "      <td>62.48</td>\n",
       "      <td>munich</td>\n",
       "      <td>{'latitude': 48.116274, 'longitude': 11.563626}</td>\n",
       "      <td>active</td>\n",
       "      <td>2024</td>\n",
       "      <td>munich</td>\n",
       "    </tr>\n",
       "  </tbody>\n",
       "</table>\n",
       "</div>"
      ],
      "text/plain": [
       "   station_id            timestamp  temperature_celsius  humidity_percent  \\\n",
       "0        1001  2025-02-04 23:00:00                14.17             77.11   \n",
       "1        1001  2025-01-06 16:00:00                 2.66             60.41   \n",
       "2        1001  2025-01-01 13:00:00                 0.31             53.84   \n",
       "3        1001  2025-01-20 11:00:00                14.97             80.40   \n",
       "4        1001  2025-02-12 06:00:00                14.22             78.14   \n",
       "\n",
       "   pm2_5  city_x                                         location  status  \\\n",
       "0  22.80  munich  {'latitude': 48.116274, 'longitude': 11.563626}  active   \n",
       "1  29.61  munich  {'latitude': 48.116274, 'longitude': 11.563626}  active   \n",
       "2  42.90  munich  {'latitude': 48.116274, 'longitude': 11.563626}  active   \n",
       "3    NaN  munich  {'latitude': 48.116274, 'longitude': 11.563626}  active   \n",
       "4  62.48  munich  {'latitude': 48.116274, 'longitude': 11.563626}  active   \n",
       "\n",
       "   deployment_year  city_y  \n",
       "0             2024  munich  \n",
       "1             2024  munich  \n",
       "2             2024  munich  \n",
       "3             2024  munich  \n",
       "4             2024  munich  "
      ]
     },
     "execution_count": 2,
     "metadata": {},
     "output_type": "execute_result"
    }
   ],
   "source": [
    "main_df=all_reading_df.merge(all_station_info_df,on='station_id')\n",
    "main_df.head()"
   ]
  },
  {
   "cell_type": "markdown",
   "metadata": {
    "id": "f453b143"
   },
   "source": [
    "## TASK 3: Clean data\n",
    "\n",
    "Filter the merged DataFrame to keep only 'active' stations and remove rows with missing values in 'temperature_celsius' or 'pm2_5'.\n"
   ]
  },
  {
   "cell_type": "markdown",
   "metadata": {
    "id": "88ecd5a3"
   },
   "source": [
    "**Reasoning**:\n",
    "Filter the merged dataframe to keep only active stations and remove rows with missing values in the specified columns.\n",
    "\n"
   ]
  },
  {
   "cell_type": "code",
   "execution_count": 3,
   "metadata": {
    "id": "fa0aa6f0"
   },
   "outputs": [
    {
     "name": "stderr",
     "output_type": "stream",
     "text": [
      "C:\\Users\\Baby.Chandran\\AppData\\Local\\Temp\\ipykernel_21656\\3921023914.py:2: SettingWithCopyWarning: \n",
      "A value is trying to be set on a copy of a slice from a DataFrame\n",
      "\n",
      "See the caveats in the documentation: https://pandas.pydata.org/pandas-docs/stable/user_guide/indexing.html#returning-a-view-versus-a-copy\n",
      "  cleaned_df.dropna(subset=['temperature_celsius','pm2_5'],how='any',inplace=True)\n"
     ]
    }
   ],
   "source": [
    "cleaned_df=main_df[main_df['status']=='active']\n",
    "cleaned_df.dropna(subset=['temperature_celsius','pm2_5'],how='any',inplace=True)"
   ]
  },
  {
   "cell_type": "markdown",
   "metadata": {
    "id": "5b6a3be6"
   },
   "source": [
    "## TASK 4: Analyze data\n",
    "\n",
    "Calculate the average 'temperature_celsius' and 'pm2_5' for each city.\n"
   ]
  },
  {
   "cell_type": "markdown",
   "metadata": {
    "id": "485603b4"
   },
   "source": [
    "**Reasoning**:\n",
    "Calculate the mean temperature and PM2.5 for each city by grouping the cleaned_df by city and applying the mean aggregation. Then display the head of the resulting dataframe.\n",
    "\n"
   ]
  },
  {
   "cell_type": "code",
   "execution_count": 4,
   "metadata": {
    "id": "ac870825"
   },
   "outputs": [
    {
     "data": {
      "text/html": [
       "<div>\n",
       "<style scoped>\n",
       "    .dataframe tbody tr th:only-of-type {\n",
       "        vertical-align: middle;\n",
       "    }\n",
       "\n",
       "    .dataframe tbody tr th {\n",
       "        vertical-align: top;\n",
       "    }\n",
       "\n",
       "    .dataframe thead th {\n",
       "        text-align: right;\n",
       "    }\n",
       "</style>\n",
       "<table border=\"1\" class=\"dataframe\">\n",
       "  <thead>\n",
       "    <tr style=\"text-align: right;\">\n",
       "      <th></th>\n",
       "      <th>city_y</th>\n",
       "      <th>temperature_celsius</th>\n",
       "      <th>pm2_5</th>\n",
       "    </tr>\n",
       "  </thead>\n",
       "  <tbody>\n",
       "    <tr>\n",
       "      <th>0</th>\n",
       "      <td>munich</td>\n",
       "      <td>7.550826</td>\n",
       "      <td>40.038595</td>\n",
       "    </tr>\n",
       "    <tr>\n",
       "      <th>1</th>\n",
       "      <td>sydney</td>\n",
       "      <td>24.261897</td>\n",
       "      <td>39.060256</td>\n",
       "    </tr>\n",
       "    <tr>\n",
       "      <th>2</th>\n",
       "      <td>tokyo</td>\n",
       "      <td>12.685729</td>\n",
       "      <td>39.741027</td>\n",
       "    </tr>\n",
       "  </tbody>\n",
       "</table>\n",
       "</div>"
      ],
      "text/plain": [
       "   city_y  temperature_celsius      pm2_5\n",
       "0  munich             7.550826  40.038595\n",
       "1  sydney            24.261897  39.060256\n",
       "2   tokyo            12.685729  39.741027"
      ]
     },
     "execution_count": 4,
     "metadata": {},
     "output_type": "execute_result"
    }
   ],
   "source": [
    "cleaned_df_pm2=cleaned_df.groupby(['city_y'],as_index=False)['pm2_5'].mean()\n",
    "cleand_df_temp=cleaned_df.groupby(['city_y'],as_index=False)['temperature_celsius'].mean()\n",
    "result_df=cleand_df_temp.merge(cleaned_df_pm2,on=['city_y'])\n",
    "result_df.head()"
   ]
  },
  {
   "cell_type": "markdown",
   "metadata": {
    "id": "40979f5f"
   },
   "source": [
    "## TASK 5: Save report\n",
    "\n",
    "Save the city summary as a CSV file named `city_summary_report.csv` with the specified columns.\n"
   ]
  },
  {
   "cell_type": "markdown",
   "metadata": {
    "id": "1842ff9e"
   },
   "source": [
    "**Reasoning**:\n",
    "Reset the index, rename the city column, and save the city summary DataFrame to a CSV file.\n",
    "\n"
   ]
  },
  {
   "cell_type": "code",
   "execution_count": 5,
   "metadata": {
    "id": "2d720f4f"
   },
   "outputs": [],
   "source": [
    "resut=result_df.to_csv('city_summary_report.csv',index=False)"
   ]
  }
 ],
 "metadata": {
  "colab": {
   "provenance": []
  },
  "kernelspec": {
   "display_name": "Python 3 (ipykernel)",
   "language": "python",
   "name": "python3"
  },
  "language_info": {
   "codemirror_mode": {
    "name": "ipython",
    "version": 3
   },
   "file_extension": ".py",
   "mimetype": "text/x-python",
   "name": "python",
   "nbconvert_exporter": "python",
   "pygments_lexer": "ipython3",
   "version": "3.13.5"
  }
 },
 "nbformat": 4,
 "nbformat_minor": 4
}
